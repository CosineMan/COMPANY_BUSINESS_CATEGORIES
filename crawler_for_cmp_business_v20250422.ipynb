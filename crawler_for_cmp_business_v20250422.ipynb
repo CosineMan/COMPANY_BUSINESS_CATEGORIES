{
 "cells": [
  {
   "cell_type": "markdown",
   "id": "8b07ae29-0462-480c-9d75-09094ead2480",
   "metadata": {},
   "source": [
    "#### **Import library**"
   ]
  },
  {
   "cell_type": "code",
   "execution_count": 1,
   "id": "01dea3af-8a0a-4a2e-bd10-2c3ad19424a9",
   "metadata": {},
   "outputs": [],
   "source": [
    "import os\n",
    "import logging\n",
    "import pandas as pd\n",
    "import requests\n",
    "import time"
   ]
  },
  {
   "cell_type": "markdown",
   "id": "8a1f532a-495f-406d-92d6-a1d96bfe2553",
   "metadata": {},
   "source": [
    "#### **Set environment**"
   ]
  },
  {
   "cell_type": "code",
   "execution_count": 2,
   "id": "5a1ea17d-0893-41d4-9e34-fa9637f51cca",
   "metadata": {},
   "outputs": [],
   "source": [
    "cmp_source_dir = \"CMP_LIST\"\n",
    "cmp_source_file_name = 'CAMPANY_LIST_v20250424_2.csv'\n",
    "\n",
    "cmp_business_data_dir = \"CMP_BUSINESS_DATA\"\n",
    "cmp_business_data_name = \"CAMPANY_BUSINESS_DATA_v20250424_2.CSV\"\n",
    "\n",
    "business_data_format = \"json\"\n",
    "business_data_skip_rows = 0\n",
    "business_data_top_n = 1000 #平台API回傳預設50筆，下限為1，上限為1000\n",
    "\n",
    "log_file_name = 'campany_business_crawler_log_' + time.strftime(\"%Y%m%d\") + '.log'"
   ]
  },
  {
   "cell_type": "markdown",
   "id": "ed6aecc7-87f6-41dc-b1ab-d67f74a25149",
   "metadata": {},
   "source": [
    "#### **Create function - cmp_business_api**"
   ]
  },
  {
   "cell_type": "code",
   "execution_count": 3,
   "id": "00c29a4b-ab2b-446b-8d4c-be431d08c068",
   "metadata": {},
   "outputs": [],
   "source": [
    "def cmp_business_api(camp_id, business_data_format, business_data_skip_rows, business_data_top_n):\n",
    "    url = f\"https://data.gcis.nat.gov.tw/od/data/api/236EE382-4942-41A9-BD03-CA0709025E7C?$format={business_data_format}&$filter=Business_Accounting_NO eq {camp_id}&$skip={business_data_skip_rows}&$top={business_data_top_n}\"\n",
    "    headers = {\n",
    "        'User-Agent': 'Mozilla/5.0 (Windows NT 10.0; Win64; x64) AppleWebKit/537.36 '\n",
    "                      '(KHTML, like Gecko) Chrome/123.0.0.0 Safari/537.36',\n",
    "        'Accept': 'text/html,application/xhtml+xml,application/xml;q=0.9,image/avif,'\n",
    "                  'image/webp,image/apng,*/*;q=0.8',\n",
    "        'Accept-Encoding': 'gzip, deflate, br',\n",
    "        'Accept-Language': 'zh-TW,zh;q=0.9,en;q=0.8',\n",
    "        'Connection': 'keep-alive',\n",
    "        'DNT': '1',  # Do Not Track\n",
    "        'Sec-Fetch-Dest': 'document',\n",
    "        'Sec-Fetch-Mode': 'navigate',\n",
    "        'Sec-Fetch-Site': 'none',\n",
    "        'Sec-Fetch-User': '?1',\n",
    "        'Upgrade-Insecure-Requests': '1',\n",
    "        'Referer': 'https://www.google.com/'  # 模擬從 Google 連進來\n",
    "    }\n",
    "    \n",
    "    try:\n",
    "        response = requests.get(url, headers=headers)\n",
    "        if response.status_code == 200:\n",
    "            logging.info(f\"{camp_id}, 處理成功，狀態碼: {response.status_code}\")\n",
    "            return response.json()\n",
    "        else:\n",
    "            logging.error(f\"{camp_id}, 查詢失敗，狀態碼: {response.status_code}\")\n",
    "            return None\n",
    "    except Exception as e:\n",
    "        logging.error(f\"{camp_id}, 查詢錯誤，錯誤訊息: {e}\")\n",
    "        return None"
   ]
  },
  {
   "cell_type": "markdown",
   "id": "c1e051e2-b96d-44a7-a242-1d961f611360",
   "metadata": {},
   "source": [
    "#### **Create function - parsing_json**"
   ]
  },
  {
   "cell_type": "code",
   "execution_count": 4,
   "id": "ca4dfb22-b2b0-4f49-9734-90ff4db88180",
   "metadata": {},
   "outputs": [],
   "source": [
    "def parsing_json(json_str):\n",
    "    for business in json_str[0]['Cmp_Business']:\n",
    "        df_cmp_business.loc[len(df_cmp_business)] = {\n",
    "            \"SNAP_DATE\": time.strftime(\"%Y%m%d\"),\n",
    "            \"BUSINESS_ACCOUNTING_NO\": json_str[0][\"Business_Accounting_NO\"],\n",
    "            \"COMPANY_NAME\": json_str[0][\"Company_Name\"],\n",
    "            \"COMPANY_STATUS\": json_str[0][\"Company_Status\"],\n",
    "            \"COMPANY_STATUS_DESC\": json_str[0][\"Company_Status_Desc\"],\n",
    "            \"COMPANY_SETUP_DATE\": json_str[0][\"Company_Setup_Date\"],\n",
    "            \"BUSINESS_SEQ_NO\": business['Business_Seq_NO'],\n",
    "            \"BUSINESS_ITEM\": business['Business_Item'],\n",
    "            \"BUSINESS_ITEM_DESC\": business['Business_Item_Desc']\n",
    "        }"
   ]
  },
  {
   "cell_type": "markdown",
   "id": "82bdb3f6-5550-4fd3-a388-e14c6d426b5f",
   "metadata": {},
   "source": [
    "#### **Create function - save_df_to_csv**"
   ]
  },
  {
   "cell_type": "code",
   "execution_count": 5,
   "id": "b398d6fe-8db1-4dc1-a5e6-34b2c9f1f6a3",
   "metadata": {},
   "outputs": [],
   "source": [
    "def save_df_to_csv(df):\n",
    "    df_cmp_business.to_csv(\n",
    "        cmp_business_data_path,\n",
    "        index=False,\n",
    "        encoding='utf-8-sig'\n",
    "    ) "
   ]
  },
  {
   "cell_type": "markdown",
   "id": "0428d651-94e0-4765-9ee9-bfae924c4680",
   "metadata": {},
   "source": [
    "#### **Initial environment**"
   ]
  },
  {
   "cell_type": "code",
   "execution_count": 8,
   "id": "0410d2d9-5165-470f-a7d6-9f3398697adf",
   "metadata": {},
   "outputs": [],
   "source": [
    "cmp_source_path = os.path.join(os.getcwd(), cmp_source_dir, cmp_source_file_name)\n",
    "cmp_business_data_path = os.path.join(os.getcwd(), cmp_business_data_dir, cmp_business_data_name)\n",
    "\n",
    "columns = [\"SNAP_DATE\",\n",
    "           \"BUSINESS_ACCOUNTING_NO\", \"COMPANY_NAME\", \"COMPANY_STATUS\", \"COMPANY_STATUS_DESC\", \"COMPANY_SETUP_DATE\",\n",
    "           \"BUSINESS_SEQ_NO\", \"BUSINESS_ITEM\", \"BUSINESS_ITEM_DESC\"]\n",
    "df_cmp_business = pd.DataFrame(columns=columns)\n",
    "\n",
    "logging.basicConfig(\n",
    "    level=logging.CRITICAL, # 全部訊息都寫入log\n",
    "    format='%(asctime)s - %(levelname)s - %(message)s',\n",
    "    datefmt='%Y/%m/%d %H:%M:%S',\n",
    "    filename=log_file_name,  \n",
    "    filemode='a' # append log紀錄\n",
    ")"
   ]
  },
  {
   "cell_type": "markdown",
   "id": "62bde21b-f531-4887-95a5-44993bf3ddcd",
   "metadata": {},
   "source": [
    "#### **Read CSV**"
   ]
  },
  {
   "cell_type": "code",
   "execution_count": 9,
   "id": "339acbf9-846c-47fd-aa44-48febe9aaebd",
   "metadata": {},
   "outputs": [
    {
     "name": "stdout",
     "output_type": "stream",
     "text": [
      "本次爬蟲預計處理 311200 間公司\n"
     ]
    }
   ],
   "source": [
    "df_source = pd.read_csv(cmp_source_path, dtype={\"CAMP_ID\": str})\n",
    "df_source = df_source.drop_duplicates()\n",
    "print(f\"本次爬蟲預計處理 {df_source.shape[0]} 間公司\")"
   ]
  },
  {
   "cell_type": "markdown",
   "id": "40461807-ff85-48a6-8bea-502d01a52001",
   "metadata": {},
   "source": [
    "#### **Launch  crawler**"
   ]
  },
  {
   "cell_type": "code",
   "execution_count": null,
   "id": "81a110e0-bbc2-4f89-ae3c-d4d10e2409f3",
   "metadata": {},
   "outputs": [
    {
     "name": "stdout",
     "output_type": "stream",
     "text": [
      "處理第1000筆資料，清理前統一編號01027772，清理後統一編號01027772\n",
      "處理第2000筆資料，清理前統一編號01325076，清理後統一編號01325076\n",
      "處理第3000筆資料，清理前統一編號01612416，清理後統一編號01612416\n",
      "處理第4000筆資料，清理前統一編號01826487，清理後統一編號01826487\n",
      "處理第5000筆資料，清理前統一編號02752961，清理後統一編號02752961\n",
      "處理第6000筆資料，清理前統一編號04181778，清理後統一編號04181778\n",
      "處理第7000筆資料，清理前統一編號04783770，清理後統一編號04783770\n",
      "處理第8000筆資料，清理前統一編號05350856，清理後統一編號05350856\n",
      "處理第9000筆資料，清理前統一編號06649341，清理後統一編號06649341\n",
      "處理第10000筆資料，清理前統一編號07723699，清理後統一編號07723699\n",
      "處理第11000筆資料，清理前統一編號08629412，清理後統一編號08629412\n",
      "處理第12000筆資料，清理前統一編號09618336，清理後統一編號09618336\n",
      "處理第13000筆資料，清理前統一編號10098116，清理後統一編號10098116\n",
      "處理第14000筆資料，清理前統一編號10381252，清理後統一編號10381252\n",
      "處理第15000筆資料，清理前統一編號10651585，清理後統一編號10651585\n",
      "處理第16000筆資料，清理前統一編號12289554，清理後統一編號12289554\n",
      "處理第17000筆資料，清理前統一編號12504982，清理後統一編號12504982\n",
      "處理第18000筆資料，清理前統一編號12618465，清理後統一編號12618465\n",
      "處理第19000筆資料，清理前統一編號12676056，清理後統一編號12676056\n",
      "處理第20000筆資料，清理前統一編號12731826，清理後統一編號12731826\n",
      "處理第21000筆資料，清理前統一編號12800196，清理後統一編號12800196\n",
      "處理第22000筆資料，清理前統一編號12861382，清理後統一編號12861382\n",
      "處理第23000筆資料，清理前統一編號12917484，清理後統一編號12917484\n",
      "處理第24000筆資料，清理前統一編號13244161，清理後統一編號13244161\n",
      "處理第25000筆資料，清理前統一編號13546932，清理後統一編號13546932\n",
      "處理第26000筆資料，清理前統一編號13732957，清理後統一編號13732957\n",
      "處理第27000筆資料，清理前統一編號13852919，清理後統一編號13852919\n",
      "處理第28000筆資料，清理前統一編號13945500，清理後統一編號13945500\n",
      "處理第29000筆資料，清理前統一編號14214778，清理後統一編號14214778\n",
      "處理第30000筆資料，清理前統一編號14324178，清理後統一編號14324178\n",
      "處理第31000筆資料，清理前統一編號14473508，清理後統一編號14473508\n",
      "處理第32000筆資料，清理前統一編號14719741，清理後統一編號14719741\n",
      "處理第33000筆資料，清理前統一編號14998526，清理後統一編號14998526\n",
      "處理第34000筆資料，清理前統一編號15696457，清理後統一編號15696457\n",
      "處理第35000筆資料，清理前統一編號15915256，清理後統一編號15915256\n",
      "處理第36000筆資料，清理前統一編號16047044，清理後統一編號16047044\n",
      "處理第37000筆資料，清理前統一編號16126602，清理後統一編號16126602\n",
      "處理第38000筆資料，清理前統一編號16167238，清理後統一編號16167238\n",
      "處理第39000筆資料，清理前統一編號16233954，清理後統一編號16233954\n",
      "處理第40000筆資料，清理前統一編號16299337，清理後統一編號16299337\n",
      "處理第41000筆資料，清理前統一編號16345563，清理後統一編號16345563\n",
      "處理第42000筆資料，清理前統一編號16417502，清理後統一編號16417502\n",
      "處理第43000筆資料，清理前統一編號16491761，清理後統一編號16491761\n",
      "處理第44000筆資料，清理前統一編號16569367，清理後統一編號16569367\n",
      "處理第45000筆資料，清理前統一編號16615138，清理後統一編號16615138\n",
      "處理第46000筆資料，清理前統一編號16677479，清理後統一編號16677479\n",
      "處理第47000筆資料，清理前統一編號16753722，清理後統一編號16753722\n",
      "處理第48000筆資料，清理前統一編號16793034，清理後統一編號16793034\n",
      "處理第49000筆資料，清理前統一編號16871256，清理後統一編號16871256\n",
      "處理第50000筆資料，清理前統一編號16942528，清理後統一編號16942528\n",
      "處理第51000筆資料，清理前統一編號17078142，清理後統一編號17078142\n",
      "處理第52000筆資料，清理前統一編號17355363，清理後統一編號17355363\n",
      "處理第53000筆資料，清理前統一編號17670539，清理後統一編號17670539\n",
      "處理第54000筆資料，清理前統一編號17980942，清理後統一編號17980942\n",
      "處理第55000筆資料，清理前統一編號18254595，清理後統一編號18254595\n",
      "處理第56000筆資料，清理前統一編號18499732，清理後統一編號18499732\n",
      "處理第57000筆資料，清理前統一編號19510382，清理後統一編號19510382\n",
      "處理第58000筆資料，清理前統一編號19992156，清理後統一編號19992156\n",
      "處理第59000筆資料，清理前統一編號20394636，清理後統一編號20394636\n",
      "處理第60000筆資料，清理前統一編號21206041，清理後統一編號21206041\n",
      "處理第61000筆資料，清理前統一編號21724918，清理後統一編號21724918\n",
      "處理第62000筆資料，清理前統一編號22026927，清理後統一編號22026927\n",
      "處理第63000筆資料，清理前統一編號22102277，清理後統一編號22102277\n",
      "處理第64000筆資料，清理前統一編號22178368，清理後統一編號22178368\n",
      "處理第65000筆資料，清理前統一編號22267137，清理後統一編號22267137\n",
      "處理第66000筆資料，清理前統一編號22343748，清理後統一編號22343748\n",
      "處理第67000筆資料，清理前統一編號22417179，清理後統一編號22417179\n",
      "處理第68000筆資料，清理前統一編號22463503，清理後統一編號22463503\n",
      "處理第69000筆資料，清理前統一編號22571616，清理後統一編號22571616\n",
      "處理第70000筆資料，清理前統一編號22636929，清理後統一編號22636929\n",
      "處理第71000筆資料，清理前統一編號22715233，清理後統一編號22715233\n",
      "處理第72000筆資料，清理前統一編號22758112，清理後統一編號22758112\n",
      "處理第73000筆資料，清理前統一編號22858127，清理後統一編號22858127\n",
      "處理第74000筆資料，清理前統一編號22899936，清理後統一編號22899936\n",
      "處理第75000筆資料，清理前統一編號23012041，清理後統一編號23012041\n",
      "處理第76000筆資料，清理前統一編號23058165，清理後統一編號23058165\n",
      "處理第77000筆資料，清理前統一編號23139863，清理後統一編號23139863\n",
      "處理第78000筆資料，清理前統一編號23211597，清理後統一編號23211597\n",
      "處理第79000筆資料，清理前統一編號23293485，清理後統一編號23293485\n",
      "處理第80000筆資料，清理前統一編號23360478，清理後統一編號23360478\n",
      "處理第81000筆資料，清理前統一編號23440445，清理後統一編號23440445\n",
      "處理第82000筆資料，清理前統一編號23509062，清理後統一編號23509062\n",
      "處理第83000筆資料，清理前統一編號23599036，清理後統一編號23599036\n",
      "處理第84000筆資料，清理前統一編號23641978，清理後統一編號23641978\n",
      "處理第85000筆資料，清理前統一編號23735790，清理後統一編號23735790\n",
      "處理第86000筆資料，清理前統一編號23792145，清理後統一編號23792145\n",
      "處理第87000筆資料，清理前統一編號23887986，清理後統一編號23887986\n",
      "處理第88000筆資料，清理前統一編號23941476，清理後統一編號23941476\n",
      "處理第89000筆資料，清理前統一編號24212285，清理後統一編號24212285\n",
      "處理第90000筆資料，清理前統一編號24306537，清理後統一編號24306537\n",
      "處理第91000筆資料，清理前統一編號24365079，清理後統一編號24365079\n",
      "處理第92000筆資料，清理前統一編號24462311，清理後統一編號24462311\n",
      "處理第93000筆資料，清理前統一編號24535187，清理後統一編號24535187\n",
      "處理第94000筆資料，清理前統一編號24625194，清理後統一編號24625194\n",
      "處理第95000筆資料，清理前統一編號24739350，清理後統一編號24739350\n",
      "處理第96000筆資料，清理前統一編號24831568，清理後統一編號24831568\n",
      "處理第97000筆資料，清理前統一編號24947028，清理後統一編號24947028\n",
      "處理第98000筆資料，清理前統一編號25030678，清理後統一編號25030678\n",
      "處理第99000筆資料，清理前統一編號25120100，清理後統一編號25120100\n",
      "處理第100000筆資料，清理前統一編號25210947，清理後統一編號25210947\n",
      "處理第101000筆資料，清理前統一編號25634939，清理後統一編號25634939\n",
      "處理第102000筆資料，清理前統一編號26153493，清理後統一編號26153493\n",
      "處理第103000筆資料，清理前統一編號26361767，清理後統一編號26361767\n",
      "處理第104000筆資料，清理前統一編號26770572，清理後統一編號26770572\n",
      "處理第105000筆資料，清理前統一編號27260577，清理後統一編號27260577\n",
      "處理第106000筆資料，清理前統一編號27330709，清理後統一編號27330709\n",
      "處理第107000筆資料，清理前統一編號27384161，清理後統一編號27384161\n",
      "處理第108000筆資料，清理前統一編號27471101，清理後統一編號27471101\n",
      "處理第109000筆資料，清理前統一編號27544195，清理後統一編號27544195\n",
      "處理第110000筆資料，清理前統一編號27606754，清理後統一編號27606754\n",
      "處理第111000筆資料，清理前統一編號27703067，清理後統一編號27703067\n",
      "處理第112000筆資料，清理前統一編號27757345，清理後統一編號27757345\n",
      "處理第113000筆資料，清理前統一編號27837002，清理後統一編號27837002\n",
      "處理第114000筆資料，清理前統一編號27952728，清理後統一編號27952728\n",
      "處理第115000筆資料，清理前統一編號28004604，清理後統一編號28004604\n",
      "處理第116000筆資料，清理前統一編號28093465，清理後統一編號28093465\n"
     ]
    }
   ],
   "source": [
    "for row in df_source.itertuples():\n",
    "    camp_id_cleaned = row.CAMP_ID if len(row.CAMP_ID) <= 8 else row.CAMP_ID[:8]\n",
    "\n",
    "    json_str = cmp_business_api(\n",
    "        camp_id_cleaned,\n",
    "        business_data_format,\n",
    "        business_data_skip_rows,\n",
    "        business_data_top_n\n",
    "    )\n",
    "\n",
    "    if json_str is not None:\n",
    "        parsing_json(json_str)\n",
    "    else:\n",
    "        logging.critical(f\"{camp_id_cleaned}, 發查失敗，請確認統編是否正確\")\n",
    "    \n",
    "    if row.Index != 0 and row.Index % 1000 == 0:\n",
    "        save_df_to_csv(df_cmp_business)\n",
    "        print(f\"處理第{row.Index}筆資料，清理前統一編號{row.CAMP_ID}，清理後統一編號{camp_id_cleaned}\")\n",
    "\n",
    "# 爬蟲完畢後最後一次存成CSV\n",
    "save_df_to_csv(df_cmp_business)"
   ]
  },
  {
   "cell_type": "code",
   "execution_count": null,
   "id": "679fbdb7-1f13-4628-bbe0-6405c9ae5b4b",
   "metadata": {},
   "outputs": [],
   "source": []
  }
 ],
 "metadata": {
  "kernelspec": {
   "display_name": "Python 3 (ipykernel)",
   "language": "python",
   "name": "python3"
  },
  "language_info": {
   "codemirror_mode": {
    "name": "ipython",
    "version": 3
   },
   "file_extension": ".py",
   "mimetype": "text/x-python",
   "name": "python",
   "nbconvert_exporter": "python",
   "pygments_lexer": "ipython3",
   "version": "3.12.7"
  }
 },
 "nbformat": 4,
 "nbformat_minor": 5
}
